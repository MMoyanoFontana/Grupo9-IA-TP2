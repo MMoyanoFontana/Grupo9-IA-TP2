{
 "cells": [
  {
   "cell_type": "code",
   "execution_count": 11,
   "id": "054d0c95-a92c-499c-afab-0649050bcb7b",
   "metadata": {
    "scrolled": true
   },
   "outputs": [],
   "source": [
    "import os\n",
    "import re\n",
    "import numpy as np\n",
    "import tensorflow as tf\n",
    "from PIL import Image"
   ]
  },
  {
   "cell_type": "code",
   "execution_count": 12,
   "id": "7a9ee5f8-dd72-4040-a89c-bc2bf134dc40",
   "metadata": {},
   "outputs": [],
   "source": [
    "category_to_int_map = {'100': 0,\n",
    "'Among': 1,\n",
    "'Angry': 2,\n",
    "'Ankh': 3,\n",
    "'Aroura': 4,\n",
    "'At': 5,\n",
    "'Bad thinking': 6,\n",
    "'Bandage': 7,\n",
    "'Bee': 8,\n",
    "'Belongs': 9,\n",
    "'Birth': 10,\n",
    "'Board game': 11,\n",
    "'Book': 12,\n",
    "'Boy': 13,\n",
    "'Branch': 14,\n",
    "'Bread': 15,\n",
    "'Brewer': 16,\n",
    "'Builder': 17,\n",
    "'Bury': 18,\n",
    "'Canal': 19,\n",
    "'Cloth on pole': 20,\n",
    "'Cobra': 21,\n",
    "'Composite_bow': 22,\n",
    "'Cooked': 23,\n",
    "'Corpse': 24,\n",
    "'Dessert': 25,\n",
    "'Divide': 26,\n",
    "'Duck': 27,\n",
    "'Elephant': 28,\n",
    "'Enclosed mound': 29,\n",
    "'Eye': 30,\n",
    "'Fabric': 31,\n",
    "'Face': 32,\n",
    "'Falcon': 33,\n",
    "'Fingre': 34,\n",
    "'Fish': 35,\n",
    "'Flail': 36,\n",
    "'Folded': 37,\n",
    "'Galena': 38,\n",
    "'Giraffe': 39,\n",
    "'He': 40,\n",
    "'Her': 41,\n",
    "'Hit': 42,\n",
    "'Horn': 43,\n",
    "'King': 44,\n",
    "'Leg': 45,\n",
    "'Length of a human arm': 46,\n",
    "'Life spirit': 47,\n",
    "'Lion': 48,\n",
    "'Lizard': 49,\n",
    "'Loaf of bread': 50,\n",
    "'Loaf': 51,\n",
    "'Man': 52,\n",
    "'Mascot': 53,\n",
    "'Meet': 54,\n",
    "'Mother': 55,\n",
    "'Mouth': 56,\n",
    "'Musical instrument': 57,\n",
    "'Not': 58,\n",
    "'Now': 59,\n",
    "'Nurse': 60,\n",
    "'Nursing': 61,\n",
    "'Occur': 62,\n",
    "'One': 63,\n",
    "'Owl': 64,\n",
    "'Pair': 65,\n",
    "'Papyrus scroll': 66,\n",
    "'Pool': 67,\n",
    "'Quailchick': 68,\n",
    "'Reed': 69,\n",
    "'Ring': 70,\n",
    "'Rope': 71,\n",
    "'Ruler': 72,\n",
    "'Sail': 73,\n",
    "'Sandal': 74,\n",
    "'Semen': 75,\n",
    "'Small ring': 76,\n",
    "'Snake': 77,\n",
    "'Soldier': 78,\n",
    "'Star': 79,\n",
    "'Stick': 80,\n",
    "'Swallow': 81,\n",
    "'This': 82,\n",
    "'To be dead': 83,\n",
    "'To protect': 84,\n",
    "'To say': 85,\n",
    "'Turtle': 86,\n",
    "'Viper': 87,\n",
    "'Wall': 88,\n",
    "'Water': 89,\n",
    "'Woman': 90,\n",
    "'You': 91}"
   ]
  },
  {
   "cell_type": "code",
   "execution_count": 13,
   "id": "485a006f-dacf-4e88-ace0-9b263105eeaf",
   "metadata": {},
   "outputs": [],
   "source": [
    "def process_image(image_path):\n",
    "    image = Image.open(image_path)\n",
    "    resized_image = image.resize((128, 128))\n",
    "    grayscale_image = resized_image.convert('L')\n",
    "    rescaled_image = np.array(grayscale_image) / 255.0\n",
    "    return rescaled_image\n",
    "\n",
    "def process_images(dir_path, quiet=True):\n",
    "    images = []\n",
    "    categories = []\n",
    "    for i, file in enumerate(os.listdir(dir_path)):\n",
    "        if not quiet:\n",
    "            print(f\"Procesando {file} ({i+1}/{len(os.listdir(dir_path))})\")\n",
    "        image_path = os.path.join(dir_path, file)\n",
    "        images.append(process_image(image_path))\n",
    "        category = re.sub(r'\\s*\\(.*?\\)\\.\\w+$', '', file).capitalize()\n",
    "        categories.append(category)\n",
    "    return np.array(images), np.array(categories)\n",
    "\n",
    "def get_categoria(index):\n",
    "    return list(category_to_int_map.keys())[index]\n",
    "\n",
    "def cargar_modelo(nombre_modelo = \"CNN_2\"):\n",
    "    return tf.keras.models.load_model(f'modelos_entrenados/{nombre_modelo}.keras')\n"
   ]
  },
  {
   "cell_type": "markdown",
   "id": "17546945-547e-425b-a7e7-4115b2ff3804",
   "metadata": {},
   "source": [
    "Cargar modelo definiendo el nombre, Por ejemplo:"
   ]
  },
  {
   "cell_type": "code",
   "execution_count": 14,
   "id": "35aed3e0-46ab-4405-8761-784d15070334",
   "metadata": {},
   "outputs": [],
   "source": [
    "modelo_cargado = cargar_modelo(\"CNN_2\")"
   ]
  },
  {
   "cell_type": "markdown",
   "id": "d0ac0b26-d69a-4cb7-96c8-fa5eed900ac1",
   "metadata": {},
   "source": [
    "## Para procesar una sola imagen: \n",
    "Cambiar la variable path al de la imagen que se quiere probar"
   ]
  },
  {
   "cell_type": "code",
   "execution_count": 15,
   "id": "52f719e0-d2e5-4fca-b12d-a174ebcafc46",
   "metadata": {},
   "outputs": [
    {
     "name": "stdout",
     "output_type": "stream",
     "text": [
      "1/1 [==============================] - 0s 89ms/step\n"
     ]
    }
   ],
   "source": [
    "imagen_path = \"cropped_images/Test/bee(42).jpg\"\n",
    "imagen_procesada = process_image(imagen_path)\n",
    "imagen_procesada = imagen_procesada.reshape((1, 128, 128, 1)) \n",
    "prediccion = np.argmax(modelo_cargado.predict(imagen_procesada))"
   ]
  },
  {
   "cell_type": "code",
   "execution_count": 16,
   "id": "88c846e0-08b4-4acc-b798-c06a6104b0f9",
   "metadata": {},
   "outputs": [
    {
     "data": {
      "text/plain": [
       "'Bee'"
      ]
     },
     "execution_count": 16,
     "metadata": {},
     "output_type": "execute_result"
    }
   ],
   "source": [
    "get_categoria(prediccion)"
   ]
  },
  {
   "cell_type": "markdown",
   "id": "d7980bc0-e951-425e-82a2-7841ec4bd3f1",
   "metadata": {},
   "source": [
    "## Para procesar varias imagenes: \n",
    "Cambiar la variable path, comentar las lineas indicadas si se quiere probar con todas las imágenes de un directorio"
   ]
  },
  {
   "cell_type": "code",
   "execution_count": 17,
   "id": "6d66455c-766f-4bba-bb35-775ed464c2e4",
   "metadata": {},
   "outputs": [
    {
     "name": "stdout",
     "output_type": "stream",
     "text": [
      "2/2 [==============================] - 0s 34ms/step\n"
     ]
    }
   ],
   "source": [
    "imagenes_path = \"cropped_images/Test/\"\n",
    "imagenes_procesadas, categorias_procesadas = process_images(imagenes_path)\n",
    "# Esto es solo para limitar el ejemplo, comentar las dos lineas si se quiere probar con todas\n",
    "imagenes_procesadas = imagenes_procesadas[0:41]\n",
    "categorias_procesadas = categorias_procesadas[0:41]\n",
    "\n",
    "imagenes_procesadas = imagenes_procesadas.reshape(len(imagenes_procesadas),128,128,1)\n",
    "predicciones = modelo_cargado.predict(imagenes_procesadas)"
   ]
  },
  {
   "cell_type": "code",
   "execution_count": 19,
   "id": "af8f96e4-b9bf-4dcf-9381-c5288a131fcd",
   "metadata": {},
   "outputs": [
    {
     "name": "stdout",
     "output_type": "stream",
     "text": [
      "Categoría real | Categoria predecida\n",
      "Pair | Pair\n",
      "Stick | Stick\n",
      "Soldier | Soldier\n",
      "Giraffe | Giraffe\n",
      "At | At\n",
      "Meet | Meet\n",
      "Musical instrument | Musical instrument\n",
      "Nurse | Nurse\n",
      "Face | Face\n",
      "Wall | Wall\n",
      "Boy | Boy\n",
      "Turtle | Turtle\n",
      "Fabric | Fabric\n",
      "Snake | Snake\n",
      "Ruler | Ruler\n",
      "Horn | Horn\n",
      "Birth | Birth\n",
      "Wall | Wall\n",
      "To protect | To protect\n",
      "Nursing | Nursing\n",
      "Her | Her\n",
      "Wall | Wall\n",
      "Bad thinking | Bad thinking\n",
      "Bread | Bread\n",
      "Board game | Board game\n",
      "Viper | Viper\n",
      "Branch | Branch\n",
      "Mother | Mother\n",
      "Loaf | Loaf\n",
      "Duck | Duck\n",
      "Soldier | Soldier\n",
      "Bread | Bread\n",
      "Cloth on pole | Cloth on pole\n",
      "Man | Man\n",
      "One | One\n",
      "Loaf | Loaf\n",
      "Boy | Boy\n",
      "Duck | Duck\n",
      "Horn | Horn\n",
      "Fabric | Fabric\n",
      "Bad thinking | Bad thinking\n"
     ]
    }
   ],
   "source": [
    "print('Categoría real | Categoria predecida')\n",
    "for real, prediccion in zip(categorias_procesadas, predicciones):\n",
    "    categoria_predecida = get_categoria(np.argmax(prediccion))\n",
    "    print(f'{real} | {categoria_predecida}')"
   ]
  }
 ],
 "metadata": {
  "kernelspec": {
   "display_name": "Python 3 (ipykernel)",
   "language": "python",
   "name": "python3"
  },
  "language_info": {
   "codemirror_mode": {
    "name": "ipython",
    "version": 3
   },
   "file_extension": ".py",
   "mimetype": "text/x-python",
   "name": "python",
   "nbconvert_exporter": "python",
   "pygments_lexer": "ipython3",
   "version": "3.12.5"
  }
 },
 "nbformat": 4,
 "nbformat_minor": 5
}
